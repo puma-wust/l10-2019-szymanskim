{
 "cells": [
  {
   "cell_type": "markdown",
   "metadata": {},
   "source": [
    "### 2018/2019 - Task List 10\n",
    "\n",
    "1. Implement Naive Bayes classifier with pyro\n",
    "    - create apropriate parameters (mean and std for a and b, sigma - noise)\n",
    "    - provide optimization procedure\n",
    "    - check appropriateness of implemented method with selected dataset\n"
   ]
  },
  {
   "cell_type": "markdown",
   "metadata": {},
   "source": [
    "# Required imports"
   ]
  },
  {
   "cell_type": "code",
   "execution_count": 1,
   "metadata": {},
   "outputs": [],
   "source": [
    "%matplotlib inline\n",
    "import pyro\n",
    "import torch\n",
    "import numpy as np\n",
    "import matplotlib.pyplot as plt\n",
    "import pyro.optim as optim\n",
    "import pyro.distributions as dist\n",
    "from torch.distributions import constraints\n",
    "from tqdm import tqdm\n",
    "import seaborn as sns\n",
    "from matplotlib import animation, rc\n",
    "from IPython.display import HTML\n",
    "import torch.nn as nn\n",
    "from functools import partial\n",
    "import pandas as pd\n",
    "from pyro.contrib.autoguide import AutoDiagonalNormal\n",
    "from pyro.infer import EmpiricalMarginal, SVI, Trace_ELBO, TracePredictive"
   ]
  },
  {
   "cell_type": "code",
   "execution_count": 2,
   "metadata": {},
   "outputs": [],
   "source": [
    "pyro.set_rng_seed(1)\n",
    "pyro.enable_validation(True)"
   ]
  },
  {
   "cell_type": "code",
   "execution_count": 3,
   "metadata": {},
   "outputs": [],
   "source": [
    "from sklearn import datasets, model_selection\n",
    "from sklearn.naive_bayes import GaussianNB\n"
   ]
  },
  {
   "cell_type": "markdown",
   "metadata": {},
   "source": [
    "## Solutions"
   ]
  },
  {
   "cell_type": "markdown",
   "metadata": {},
   "source": [
    "### sklearn solution"
   ]
  },
  {
   "cell_type": "code",
   "execution_count": 4,
   "metadata": {},
   "outputs": [],
   "source": [
    "iris = datasets.load_iris()\n",
    "\n",
    "gnb = GaussianNB()\n",
    "\n",
    "\n",
    "X_train, X_validation, Y_train, Y_validation = model_selection.train_test_split(\n",
    "    iris.data, iris.target, test_size=0.33, random_state=5)"
   ]
  },
  {
   "cell_type": "code",
   "execution_count": 5,
   "metadata": {},
   "outputs": [],
   "source": [
    "y_pred = gnb.fit(iris.data, iris.target).predict(iris.data)"
   ]
  },
  {
   "cell_type": "code",
   "execution_count": 6,
   "metadata": {
    "scrolled": true
   },
   "outputs": [
    {
     "name": "stdout",
     "output_type": "stream",
     "text": [
      "NB accuracy: 0.960902 (0.035958)\n",
      "NB f1_micro: 0.960902 (0.035958)\n",
      "NB f1_macro: 0.960191 (0.036241)\n"
     ]
    }
   ],
   "source": [
    "kfold = 5\n",
    "scoring = ['accuracy', 'f1_micro', 'f1_macro']\n",
    "cv_results = model_selection.cross_validate(gnb, X_train, Y_train, cv=kfold, scoring=scoring)\n",
    "\n",
    "#displaying the mean and standard deviation of the prediction\n",
    "for score in scoring: \n",
    "    msg = \"%s: %f (%f)\" % ('NB ' + score, cv_results['test_' + score].mean(), cv_results['test_' + score].std())\n",
    "    print(msg)"
   ]
  },
  {
   "cell_type": "markdown",
   "metadata": {},
   "source": [
    "### self-made NB"
   ]
  },
  {
   "cell_type": "code",
   "execution_count": 7,
   "metadata": {},
   "outputs": [],
   "source": [
    "class NaiveBayesClassifier:\n",
    "    \n",
    "    def __init__(self, x_data, y_data):\n",
    "        self.X = x_data\n",
    "        self.y = y_data\n",
    "        self.attributes_number = x_data.shape[1]\n",
    "        self.classes = np.unique(y_data)\n",
    "    \n",
    "    def fit(self):\n",
    "        pass\n",
    "    \n",
    "    def predict(self):\n",
    "        pass\n",
    "    \n",
    "    def div_by_category(self, x_data, y_data):\n",
    "        X_cl = {}\n",
    "\n",
    "        for i in range(len(x_data)):\n",
    "            if y_data[i] not in X_cl.keys():\n",
    "                X_cl[y_data[i]] = list()\n",
    "            X_cl[y_data[i]].append(x_data[i])\n",
    "\n",
    "        for cl_key in categories:\n",
    "            X_cl[cl_key] = np.array(X_cl[cl_key])\n",
    "\n",
    "        return X_cl\n",
    "    \n",
    "    def model(self, x_data, y_data):\n",
    "        mean = torch.tensor(np.random.choice(x_data, 1))\n",
    "        scale = torch.tensor(1.0)\n",
    "        with pyro.plate('data_loop', len(x_data)):\n",
    "            pyro.sample('prob', dist.Normal(mean, scale), obs=x_data, infer={'is_auxiliary': True})\n",
    "        \n",
    "    def guide(self, x_data):\n",
    "        mean = pyro.param('mean', torch.tensor(np.random.choice(x_data, 1)))\n",
    "        scale = pyro.param('scale', torch.tensor(np.random.choice(1.)), constraint=constraints.positive)\n",
    "        pyro.sample('prob', dist.Normal(mean, scale))\n",
    "        \n",
    "        "
   ]
  },
  {
   "cell_type": "code",
   "execution_count": null,
   "metadata": {},
   "outputs": [],
   "source": [
    "def div_by_category(x_data, y_data):\n",
    "    X_cl = {}\n",
    "\n",
    "    for i in range(len(x_data)):\n",
    "        for attribute in range(len(x_data[0])):\n",
    "            if (y_data[i], attribute) not in X_cl.keys():\n",
    "                X_cl[(y_data[i], attribute)] = list()\n",
    "            X_cl[(y_data[i], attribute)].append(x_data[i][attribute])\n",
    "\n",
    "    for cl_key in np.unique(y_data):\n",
    "        for attribute in range(len(x_data[0])):\n",
    "            X_cl[cl_key, attribute] = np.array(X_cl[cl_key, attribute])\n",
    "\n",
    "    return X_cl\n",
    "\n",
    "def model(x_data):\n",
    "    mean = torch.tensor(np.random.choice(x_data, 1)).double()\n",
    "    scale = torch.tensor(1.0).double()\n",
    "    with pyro.plate('data_loop', len(x_data)):\n",
    "        pyro.sample('prob2', dist.Normal(mean, scale), obs=x_data)\n",
    "\n",
    "def guide(x_data):\n",
    "#     x_data = torch.from_numpy(x_data).double()\n",
    "    mean = pyro.param('mean', torch.tensor(np.random.choice(x_data, 1)))\n",
    "    scale = pyro.param('scale', torch.tensor(1.0), constraint=constraints.positive)\n",
    "    pyro.sample('prob', dist.Normal(mean.double(), scale.double()))\n",
    "    \n",
    "def train(data, num_steps=5000):\n",
    "    pyro.clear_param_store()\n",
    "    \n",
    "    optim = pyro.optim.Adam({\"lr\": 0.01})\n",
    "    svi = pyro.infer.SVI(model=model,\n",
    "                         guide=guide,\n",
    "                         optim=optim,\n",
    "                         loss=pyro.infer.Trace_ELBO(), num_samples=len(data))\n",
    "\n",
    "    losses = []\n",
    "    t = tqdm(range(num_steps))\n",
    "    for j in t:\n",
    "        loss = svi.step(torch.from_numpy(data))\n",
    "        losses.append(loss)\n",
    "        t.set_postfix(loss=loss)\n",
    "    return pyro.param(\"mean\"), pyro.param(\"std\"), losses"
   ]
  },
  {
   "cell_type": "code",
   "execution_count": null,
   "metadata": {},
   "outputs": [],
   "source": [
    "divided_data = div_by_category(X_train, Y_train)\n",
    "train(divided_data[(0, 0)])"
   ]
  },
  {
   "cell_type": "code",
   "execution_count": null,
   "metadata": {},
   "outputs": [],
   "source": [
    "divided_data = div_by_category(X_train, Y_train)\n",
    "\n",
    "adam_params = {\"lr\": 0.0005}\n",
    "optimizer = pyro.optim.Adam(adam_params)\n",
    "svi = SVI(model, guide, optimizer, loss=Trace_ELBO())\n",
    "\n",
    "n_steps = 2501\n",
    "for step in range(n_steps):\n",
    "    svi.step(divided_data[(2, 2)])\n",
    "    if step % 100 == 0:\n",
    "        print_progress()\n"
   ]
  },
  {
   "cell_type": "code",
   "execution_count": null,
   "metadata": {},
   "outputs": [],
   "source": [
    "pyro.clear_param_store()\n",
    "type(\"ad\")"
   ]
  },
  {
   "cell_type": "code",
   "execution_count": null,
   "metadata": {},
   "outputs": [],
   "source": [
    "for i in range(1, 10):\n",
    "    print(pyro.sample('test', dist.Normal(torch.zeros(1, 1), 1.).independent(1)))"
   ]
  },
  {
   "cell_type": "code",
   "execution_count": null,
   "metadata": {},
   "outputs": [],
   "source": [
    "for i in range(1, 10):\n",
    "    print(pyro.sample('test', dist.Normal(torch.zeros(1, 1), 1.).to_event(1)))"
   ]
  },
  {
   "cell_type": "code",
   "execution_count": null,
   "metadata": {},
   "outputs": [],
   "source": []
  },
  {
   "cell_type": "code",
   "execution_count": null,
   "metadata": {},
   "outputs": [],
   "source": []
  }
 ],
 "metadata": {
  "kernelspec": {
   "display_name": "Python 3",
   "language": "python",
   "name": "python3"
  },
  "language_info": {
   "codemirror_mode": {
    "name": "ipython",
    "version": 3
   },
   "file_extension": ".py",
   "mimetype": "text/x-python",
   "name": "python",
   "nbconvert_exporter": "python",
   "pygments_lexer": "ipython3",
   "version": "3.7.3"
  }
 },
 "nbformat": 4,
 "nbformat_minor": 2
}
